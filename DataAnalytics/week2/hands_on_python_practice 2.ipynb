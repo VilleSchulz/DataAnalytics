{
 "cells": [
  {
   "cell_type": "markdown",
   "id": "e3af01f0-eb01-4668-ba00-755922f5413a",
   "metadata": {},
   "source": [
    "## Hands-on - Matrices, DataFrames, and Time-Series Data"
   ]
  },
  {
   "cell_type": "code",
   "execution_count": 274,
   "id": "a56353bd",
   "metadata": {
    "ExecuteTime": {
     "end_time": "2025-03-17T15:43:32.734901200Z",
     "start_time": "2025-03-17T15:43:30.006043100Z"
    }
   },
   "outputs": [
    {
     "name": "stdout",
     "output_type": "stream",
     "text": [
      "Dataset Preview:\n",
      "         Date  Day     Month  Year  Customer_Age       Age_Group  \\\n",
      "0  2013-11-26   26  November  2013            19     Youth (<25)   \n",
      "1  2015-11-26   26  November  2015            19     Youth (<25)   \n",
      "2  2014-03-23   23     March  2014            49  Adults (35-64)   \n",
      "3  2016-03-23   23     March  2016            49  Adults (35-64)   \n",
      "4  2014-05-15   15       May  2014            47  Adults (35-64)   \n",
      "\n",
      "  Customer_Gender    Country             State Product_Category Sub_Category  \\\n",
      "0               M     Canada  British Columbia      Accessories   Bike Racks   \n",
      "1               M     Canada  British Columbia      Accessories   Bike Racks   \n",
      "2               M  Australia   New South Wales      Accessories   Bike Racks   \n",
      "3               M  Australia   New South Wales      Accessories   Bike Racks   \n",
      "4               F  Australia   New South Wales      Accessories   Bike Racks   \n",
      "\n",
      "               Product  Order_Quantity  Unit_Cost  Unit_Price  Profit  Cost  \\\n",
      "0  Hitch Rack - 4-Bike               8         45         120     590   360   \n",
      "1  Hitch Rack - 4-Bike               8         45         120     590   360   \n",
      "2  Hitch Rack - 4-Bike              23         45         120    1366  1035   \n",
      "3  Hitch Rack - 4-Bike              20         45         120    1188   900   \n",
      "4  Hitch Rack - 4-Bike               4         45         120     238   180   \n",
      "\n",
      "   Revenue  \n",
      "0      950  \n",
      "1      950  \n",
      "2     2401  \n",
      "3     2088  \n",
      "4      418  \n"
     ]
    }
   ],
   "source": [
    "# Import necessary libraries\n",
    "import pandas as pd  # pandas is used for handling tabular datasets (dataframes) and performing operations such as reading CSV files\n",
    "import numpy as np  # numpy is used for numerical computations such as working with arrays and applying mathematical operations\n",
    "\n",
    "# Load dataset from GitHub URL\n",
    "file_path = \"https://raw.githubusercontent.com/Hamed-Ahmadinia/DASP-2025/main/Bike%20Sales.csv\"  # URL link to the dataset stored on GitHub\n",
    "\n",
    "# Read the dataset into a pandas dataframe\n",
    "df = pd.read_csv(file_path)  # Load the dataset as a pandas DataFrame\n",
    "\n",
    "# Display the first few rows of the dataframe to confirm the data has been loaded correctly\n",
    "print(\"Dataset Preview:\")  # Print a label for context\n",
    "print(df.head(5))  # Display the first 5 rows of the dataset"
   ]
  },
  {
   "cell_type": "markdown",
   "id": "878fcaa5-7ebc-401a-99ae-c16c1c24bb9f",
   "metadata": {},
   "source": [
    "### **Exercise 1: Convert the \"Date\" column to datetime format**\n",
    "**Question:** Convert the \"Date\" column to pandas datetime format."
   ]
  },
  {
   "cell_type": "code",
   "execution_count": 275,
   "id": "ce2da9e1-00e5-477a-ab10-0afdc58ff97a",
   "metadata": {
    "ExecuteTime": {
     "end_time": "2025-03-17T15:43:32.895332500Z",
     "start_time": "2025-03-17T15:43:32.730901600Z"
    }
   },
   "outputs": [
    {
     "name": "stdout",
     "output_type": "stream",
     "text": [
      "<class 'pandas.core.frame.DataFrame'>\n",
      "RangeIndex: 113036 entries, 0 to 113035\n",
      "Data columns (total 18 columns):\n",
      " #   Column            Non-Null Count   Dtype         \n",
      "---  ------            --------------   -----         \n",
      " 0   Date              113036 non-null  datetime64[ns]\n",
      " 1   Day               113036 non-null  int64         \n",
      " 2   Month             113036 non-null  object        \n",
      " 3   Year              113036 non-null  int64         \n",
      " 4   Customer_Age      113036 non-null  int64         \n",
      " 5   Age_Group         113036 non-null  object        \n",
      " 6   Customer_Gender   113036 non-null  object        \n",
      " 7   Country           113036 non-null  object        \n",
      " 8   State             113036 non-null  object        \n",
      " 9   Product_Category  113036 non-null  object        \n",
      " 10  Sub_Category      113036 non-null  object        \n",
      " 11  Product           113036 non-null  object        \n",
      " 12  Order_Quantity    113036 non-null  int64         \n",
      " 13  Unit_Cost         113036 non-null  int64         \n",
      " 14  Unit_Price        113036 non-null  int64         \n",
      " 15  Profit            113036 non-null  int64         \n",
      " 16  Cost              113036 non-null  int64         \n",
      " 17  Revenue           113036 non-null  int64         \n",
      "dtypes: datetime64[ns](1), int64(9), object(8)\n",
      "memory usage: 15.5+ MB\n"
     ]
    }
   ],
   "source": [
    "#Converts date columns date strings to pandas datetime objects for easier processing\n",
    "df['Date']=pd.to_datetime(df['Date'])\n",
    "df.info()"
   ]
  },
  {
   "cell_type": "markdown",
   "id": "b0bedc1a-82f4-472f-a559-f6625a766672",
   "metadata": {},
   "source": [
    "### **Exercise 2: Set the \"Date\" column as the index**\n",
    "**Question:** Set the \"Date\" column as the index of the DataFrame."
   ]
  },
  {
   "cell_type": "code",
   "execution_count": 276,
   "id": "40ffded5-78e1-43f9-b0ab-979662f0e3b1",
   "metadata": {
    "ExecuteTime": {
     "end_time": "2025-03-17T15:43:33.016353100Z",
     "start_time": "2025-03-17T15:43:32.924329800Z"
    }
   },
   "outputs": [
    {
     "data": {
      "text/plain": "            Day    Month  Year  Customer_Age             Age_Group  \\\nDate                                                                 \n2011-01-01    1  January  2011            42        Adults (35-64)   \n2011-01-01    1  January  2011            33  Young Adults (25-34)   \n2011-01-01    1  January  2011            17           Youth (<25)   \n2011-01-01    1  January  2011            39        Adults (35-64)   \n2011-01-01    1  January  2011            23           Youth (<25)   \n\n           Customer_Gender        Country             State Product_Category  \\\nDate                                                                           \n2011-01-01               M  United States        California            Bikes   \n2011-01-01               F         France           Yveline            Bikes   \n2011-01-01               M         Canada  British Columbia            Bikes   \n2011-01-01               M  United States        Washington            Bikes   \n2011-01-01               M      Australia          Victoria            Bikes   \n\n              Sub_Category                 Product  Order_Quantity  Unit_Cost  \\\nDate                                                                            \n2011-01-01      Road Bikes      Road-750 Black, 44               1        344   \n2011-01-01      Road Bikes        Road-150 Red, 48               2       2171   \n2011-01-01      Road Bikes        Road-250 Red, 44               1       1519   \n2011-01-01      Road Bikes   Road-550-W Yellow, 38               3        713   \n2011-01-01  Mountain Bikes  Mountain-200 Black, 46               1       1252   \n\n            Unit_Price  Profit  Cost  Revenue  \nDate                                           \n2011-01-01         540     185   344      529  \n2011-01-01        3578    1097  4342     5439  \n2011-01-01        2443     900  1519     2419  \n2011-01-01        1120     482  2139     2621  \n2011-01-01        2295     561  1252     1813  ",
      "text/html": "<div>\n<style scoped>\n    .dataframe tbody tr th:only-of-type {\n        vertical-align: middle;\n    }\n\n    .dataframe tbody tr th {\n        vertical-align: top;\n    }\n\n    .dataframe thead th {\n        text-align: right;\n    }\n</style>\n<table border=\"1\" class=\"dataframe\">\n  <thead>\n    <tr style=\"text-align: right;\">\n      <th></th>\n      <th>Day</th>\n      <th>Month</th>\n      <th>Year</th>\n      <th>Customer_Age</th>\n      <th>Age_Group</th>\n      <th>Customer_Gender</th>\n      <th>Country</th>\n      <th>State</th>\n      <th>Product_Category</th>\n      <th>Sub_Category</th>\n      <th>Product</th>\n      <th>Order_Quantity</th>\n      <th>Unit_Cost</th>\n      <th>Unit_Price</th>\n      <th>Profit</th>\n      <th>Cost</th>\n      <th>Revenue</th>\n    </tr>\n    <tr>\n      <th>Date</th>\n      <th></th>\n      <th></th>\n      <th></th>\n      <th></th>\n      <th></th>\n      <th></th>\n      <th></th>\n      <th></th>\n      <th></th>\n      <th></th>\n      <th></th>\n      <th></th>\n      <th></th>\n      <th></th>\n      <th></th>\n      <th></th>\n      <th></th>\n    </tr>\n  </thead>\n  <tbody>\n    <tr>\n      <th>2011-01-01</th>\n      <td>1</td>\n      <td>January</td>\n      <td>2011</td>\n      <td>42</td>\n      <td>Adults (35-64)</td>\n      <td>M</td>\n      <td>United States</td>\n      <td>California</td>\n      <td>Bikes</td>\n      <td>Road Bikes</td>\n      <td>Road-750 Black, 44</td>\n      <td>1</td>\n      <td>344</td>\n      <td>540</td>\n      <td>185</td>\n      <td>344</td>\n      <td>529</td>\n    </tr>\n    <tr>\n      <th>2011-01-01</th>\n      <td>1</td>\n      <td>January</td>\n      <td>2011</td>\n      <td>33</td>\n      <td>Young Adults (25-34)</td>\n      <td>F</td>\n      <td>France</td>\n      <td>Yveline</td>\n      <td>Bikes</td>\n      <td>Road Bikes</td>\n      <td>Road-150 Red, 48</td>\n      <td>2</td>\n      <td>2171</td>\n      <td>3578</td>\n      <td>1097</td>\n      <td>4342</td>\n      <td>5439</td>\n    </tr>\n    <tr>\n      <th>2011-01-01</th>\n      <td>1</td>\n      <td>January</td>\n      <td>2011</td>\n      <td>17</td>\n      <td>Youth (&lt;25)</td>\n      <td>M</td>\n      <td>Canada</td>\n      <td>British Columbia</td>\n      <td>Bikes</td>\n      <td>Road Bikes</td>\n      <td>Road-250 Red, 44</td>\n      <td>1</td>\n      <td>1519</td>\n      <td>2443</td>\n      <td>900</td>\n      <td>1519</td>\n      <td>2419</td>\n    </tr>\n    <tr>\n      <th>2011-01-01</th>\n      <td>1</td>\n      <td>January</td>\n      <td>2011</td>\n      <td>39</td>\n      <td>Adults (35-64)</td>\n      <td>M</td>\n      <td>United States</td>\n      <td>Washington</td>\n      <td>Bikes</td>\n      <td>Road Bikes</td>\n      <td>Road-550-W Yellow, 38</td>\n      <td>3</td>\n      <td>713</td>\n      <td>1120</td>\n      <td>482</td>\n      <td>2139</td>\n      <td>2621</td>\n    </tr>\n    <tr>\n      <th>2011-01-01</th>\n      <td>1</td>\n      <td>January</td>\n      <td>2011</td>\n      <td>23</td>\n      <td>Youth (&lt;25)</td>\n      <td>M</td>\n      <td>Australia</td>\n      <td>Victoria</td>\n      <td>Bikes</td>\n      <td>Mountain Bikes</td>\n      <td>Mountain-200 Black, 46</td>\n      <td>1</td>\n      <td>1252</td>\n      <td>2295</td>\n      <td>561</td>\n      <td>1252</td>\n      <td>1813</td>\n    </tr>\n  </tbody>\n</table>\n</div>"
     },
     "execution_count": 276,
     "metadata": {},
     "output_type": "execute_result"
    }
   ],
   "source": [
    "#set Date column to rows index-> it will allways show date\n",
    "df.set_index('Date',inplace=True)\n",
    "# indexes must be sorted otherwise slicing is not working\n",
    "df.sort_index(inplace=True)\n",
    "df.head()"
   ]
  },
  {
   "cell_type": "markdown",
   "id": "297d8ed4-6521-4c45-9b49-6a3483b83142",
   "metadata": {},
   "source": [
    "### **Exercise 3: Slice the data from '2013-01-01' to '2013-12-31'**\n",
    "**Question:** Slice the DataFrame to show data for the year 2013."
   ]
  },
  {
   "cell_type": "code",
   "execution_count": 277,
   "id": "f2530035-c7dc-49e8-b34a-6eb82408850c",
   "metadata": {
    "ExecuteTime": {
     "end_time": "2025-03-17T15:43:33.083364500Z",
     "start_time": "2025-03-17T15:43:33.039355600Z"
    }
   },
   "outputs": [
    {
     "name": "stdout",
     "output_type": "stream",
     "text": [
      "            Day     Month  Year  Customer_Age             Age_Group  \\\n",
      "Date                                                                  \n",
      "2013-01-01    1   January  2013            29  Young Adults (25-34)   \n",
      "2013-01-01    1   January  2013            29  Young Adults (25-34)   \n",
      "2013-01-01    1   January  2013            19           Youth (<25)   \n",
      "2013-01-01    1   January  2013            53        Adults (35-64)   \n",
      "2013-01-01    1   January  2013            42        Adults (35-64)   \n",
      "...         ...       ...   ...           ...                   ...   \n",
      "2013-12-31   31  December  2013            53        Adults (35-64)   \n",
      "2013-12-31   31  December  2013            46        Adults (35-64)   \n",
      "2013-12-31   31  December  2013            27  Young Adults (25-34)   \n",
      "2013-12-31   31  December  2013            26  Young Adults (25-34)   \n",
      "2013-12-31   31  December  2013            25  Young Adults (25-34)   \n",
      "\n",
      "           Customer_Gender        Country              State Product_Category  \\\n",
      "Date                                                                            \n",
      "2013-01-01               F  United States            Florida            Bikes   \n",
      "2013-01-01               M  United States             Oregon            Bikes   \n",
      "2013-01-01               F  United States         Washington            Bikes   \n",
      "2013-01-01               F         France      Seine (Paris)            Bikes   \n",
      "2013-01-01               M      Australia         Queensland            Bikes   \n",
      "...                    ...            ...                ...              ...   \n",
      "2013-12-31               M  United States             Oregon      Accessories   \n",
      "2013-12-31               M         France  Seine Saint Denis            Bikes   \n",
      "2013-12-31               M      Australia         Queensland      Accessories   \n",
      "2013-12-31               F      Australia    South Australia      Accessories   \n",
      "2013-12-31               F      Australia           Victoria            Bikes   \n",
      "\n",
      "                 Sub_Category                  Product  Order_Quantity  \\\n",
      "Date                                                                     \n",
      "2013-01-01         Road Bikes         Road-650 Red, 62               1   \n",
      "2013-01-01         Road Bikes       Road-650 Black, 44               1   \n",
      "2013-01-01         Road Bikes         Road-150 Red, 48               1   \n",
      "2013-01-01         Road Bikes       Road-250 Black, 44               1   \n",
      "2013-01-01         Road Bikes    Road-350-W Yellow, 48               1   \n",
      "...                       ...                      ...             ...   \n",
      "2013-12-31  Bottles and Cages    Water Bottle - 30 oz.               8   \n",
      "2013-12-31     Mountain Bikes  Mountain-500 Silver, 44               1   \n",
      "2013-12-31  Bottles and Cages    Water Bottle - 30 oz.              15   \n",
      "2013-12-31    Tires and Tubes        Touring Tire Tube               4   \n",
      "2013-12-31         Road Bikes    Road-350-W Yellow, 48               1   \n",
      "\n",
      "            Unit_Cost  Unit_Price  Profit  Cost  Revenue  \n",
      "Date                                                      \n",
      "2013-01-01        487         783     257   487      744  \n",
      "2013-01-01        487         783     186   487      673  \n",
      "2013-01-01       2171        3578     620  2171     2791  \n",
      "2013-01-01       1555        2443     448  1555     2003  \n",
      "2013-01-01       1083        1701     346  1083     1429  \n",
      "...               ...         ...     ...   ...      ...  \n",
      "2013-12-31          2           5      18    16       34  \n",
      "2013-12-31        308         565     155   308      463  \n",
      "2013-12-31          2           5      33    30       63  \n",
      "2013-12-31          2           5       8     8       16  \n",
      "2013-12-31       1083        1701     261  1083     1344  \n",
      "\n",
      "[24443 rows x 17 columns]\n"
     ]
    }
   ],
   "source": [
    "print(df['2013-01-01' : '2013-12-31'])"
   ]
  },
  {
   "cell_type": "markdown",
   "id": "3542b40f-45c0-4b19-a00b-6832bb1f8933",
   "metadata": {},
   "source": [
    "### **Exercise 4: Calculate cumulative revenue**\n",
    "**Question:** Add a new column 'Cumulative_Revenue' that shows the cumulative sum of the revenue."
   ]
  },
  {
   "cell_type": "code",
   "execution_count": 278,
   "id": "e71a544c-dafa-4277-93fc-55877a245927",
   "metadata": {
    "ExecuteTime": {
     "end_time": "2025-03-17T15:43:33.246355300Z",
     "start_time": "2025-03-17T15:43:33.062357800Z"
    }
   },
   "outputs": [
    {
     "data": {
      "text/plain": "            Revenue  Cumulative_Revenue\nDate                                   \n2011-01-01      529                 529\n2011-01-01     5439                5968\n2011-01-01     2419                8387\n2011-01-01     2621               11008\n2011-01-01     1813               12821\n...             ...                 ...\n2011-06-03     1221             3489664\n2011-06-03     3326             3492990\n2011-06-03     1833             3494823\n2011-06-04     2297             3497120\n2011-06-04     7084             3504204\n\n[1000 rows x 2 columns]",
      "text/html": "<div>\n<style scoped>\n    .dataframe tbody tr th:only-of-type {\n        vertical-align: middle;\n    }\n\n    .dataframe tbody tr th {\n        vertical-align: top;\n    }\n\n    .dataframe thead th {\n        text-align: right;\n    }\n</style>\n<table border=\"1\" class=\"dataframe\">\n  <thead>\n    <tr style=\"text-align: right;\">\n      <th></th>\n      <th>Revenue</th>\n      <th>Cumulative_Revenue</th>\n    </tr>\n    <tr>\n      <th>Date</th>\n      <th></th>\n      <th></th>\n    </tr>\n  </thead>\n  <tbody>\n    <tr>\n      <th>2011-01-01</th>\n      <td>529</td>\n      <td>529</td>\n    </tr>\n    <tr>\n      <th>2011-01-01</th>\n      <td>5439</td>\n      <td>5968</td>\n    </tr>\n    <tr>\n      <th>2011-01-01</th>\n      <td>2419</td>\n      <td>8387</td>\n    </tr>\n    <tr>\n      <th>2011-01-01</th>\n      <td>2621</td>\n      <td>11008</td>\n    </tr>\n    <tr>\n      <th>2011-01-01</th>\n      <td>1813</td>\n      <td>12821</td>\n    </tr>\n    <tr>\n      <th>...</th>\n      <td>...</td>\n      <td>...</td>\n    </tr>\n    <tr>\n      <th>2011-06-03</th>\n      <td>1221</td>\n      <td>3489664</td>\n    </tr>\n    <tr>\n      <th>2011-06-03</th>\n      <td>3326</td>\n      <td>3492990</td>\n    </tr>\n    <tr>\n      <th>2011-06-03</th>\n      <td>1833</td>\n      <td>3494823</td>\n    </tr>\n    <tr>\n      <th>2011-06-04</th>\n      <td>2297</td>\n      <td>3497120</td>\n    </tr>\n    <tr>\n      <th>2011-06-04</th>\n      <td>7084</td>\n      <td>3504204</td>\n    </tr>\n  </tbody>\n</table>\n<p>1000 rows × 2 columns</p>\n</div>"
     },
     "execution_count": 278,
     "metadata": {},
     "output_type": "execute_result"
    }
   ],
   "source": [
    "df['Cumulative_Revenue']=df['Revenue'].cumsum()\n",
    "df[['Revenue','Cumulative_Revenue']].head(1000)\n"
   ]
  },
  {
   "cell_type": "markdown",
   "id": "6fc3984d-5b71-4117-8ab8-f9bc81434f13",
   "metadata": {},
   "source": [
    "### **Exercise 5: Downsample to show monthly total revenue (Hint: Use resampling)**\n",
    "**Question:** Resample the data to calculate total monthly revenue."
   ]
  },
  {
   "cell_type": "code",
   "execution_count": 279,
   "outputs": [
    {
     "data": {
      "text/plain": "Date\n2011-01-31    675193\n2011-02-28    637598\n2011-03-31    708517\n2011-04-30    698782\n2011-05-31    734537\nFreq: ME, Name: Revenue, dtype: int64"
     },
     "execution_count": 279,
     "metadata": {},
     "output_type": "execute_result"
    }
   ],
   "source": [
    "#If there are duplicate dates in the index, this groups them together and sums their values.\n",
    "df = df.groupby(df.index).sum()\n",
    "df_resampled = df.resample('ME').sum()\n",
    "df_resampled['Revenue'].head()# show only relevant info"
   ],
   "metadata": {
    "collapsed": false,
    "ExecuteTime": {
     "end_time": "2025-03-17T15:43:33.508206400Z",
     "start_time": "2025-03-17T15:43:33.093355300Z"
    }
   },
   "id": "a45846a0-4136-4985-a2e1-f9706ee40ce6"
  },
  {
   "cell_type": "code",
   "execution_count": 279,
   "id": "8fa7cc70-e18a-4a1f-9b8c-316cd5e2a12c",
   "metadata": {
    "ExecuteTime": {
     "end_time": "2025-03-17T15:43:33.547679700Z",
     "start_time": "2025-03-17T15:43:33.425405400Z"
    }
   },
   "outputs": [],
   "source": []
  }
 ],
 "metadata": {
  "kernelspec": {
   "display_name": "Python 3 (ipykernel)",
   "language": "python",
   "name": "python3"
  },
  "language_info": {
   "codemirror_mode": {
    "name": "ipython",
    "version": 3
   },
   "file_extension": ".py",
   "mimetype": "text/x-python",
   "name": "python",
   "nbconvert_exporter": "python",
   "pygments_lexer": "ipython3",
   "version": "3.11.9"
  }
 },
 "nbformat": 4,
 "nbformat_minor": 5
}
