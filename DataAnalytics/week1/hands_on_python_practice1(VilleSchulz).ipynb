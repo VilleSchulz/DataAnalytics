{
 "cells": [
  {
   "cell_type": "markdown",
   "id": "e3af01f0-eb01-4668-ba00-755922f5413a",
   "metadata": {},
   "source": [
    "## Hands-on - Python ReCap 1"
   ]
  },
  {
   "cell_type": "code",
   "execution_count": 367,
   "id": "a56353bd",
   "metadata": {
    "ExecuteTime": {
     "end_time": "2025-03-05T19:19:52.587032400Z",
     "start_time": "2025-03-05T19:19:52.240352300Z"
    }
   },
   "outputs": [
    {
     "name": "stdout",
     "output_type": "stream",
     "text": [
      "Dataset Preview:\n",
      "   age         workclass  fnlwgt  education  education-num  \\\n",
      "0   39         State-gov   77516  Bachelors             13   \n",
      "1   50  Self-emp-not-inc   83311  Bachelors             13   \n",
      "2   38           Private  215646    HS-grad              9   \n",
      "3   53           Private  234721       11th              7   \n",
      "4   28           Private  338409  Bachelors             13   \n",
      "\n",
      "       marital-status         occupation   relationship   race     sex  \\\n",
      "0       Never-married       Adm-clerical  Not-in-family  White    Male   \n",
      "1  Married-civ-spouse    Exec-managerial        Husband  White    Male   \n",
      "2            Divorced  Handlers-cleaners  Not-in-family  White    Male   \n",
      "3  Married-civ-spouse  Handlers-cleaners        Husband  Black    Male   \n",
      "4  Married-civ-spouse     Prof-specialty           Wife  Black  Female   \n",
      "\n",
      "   capital-gain  capital-loss  hours-per-week native-country salary  \n",
      "0          2174             0              40  United-States  <=50K  \n",
      "1             0             0              13  United-States  <=50K  \n",
      "2             0             0              40  United-States  <=50K  \n",
      "3             0             0              40  United-States  <=50K  \n",
      "4             0             0              40           Cuba  <=50K  \n"
     ]
    }
   ],
   "source": [
    "# 1. Import necessary libraries\n",
    "import pandas as pd  # pandas is used for handling tabular datasets (dataframes) and performing operations such as reading CSV files\n",
    "import numpy as np  # numpy is used for numerical computations such as working with arrays and applying mathematical operations\n",
    "\n",
    "# 2. Load dataset from GitHub URL\n",
    "file_path = \"https://raw.githubusercontent.com/Hamed-Ahmadinia/DASP-2025/main/adult.data.csv\"  # URL link to the dataset stored on GitHub\n",
    "\n",
    "# 3. Read the dataset into a pandas dataframe\n",
    "df = pd.read_csv(file_path, header=0)  # header=0 means the first row in the CSV is used as column names\n",
    "\n",
    "# 4. Display the first few rows of the dataframe to confirm the data has been loaded correctly\n",
    "print(\"Dataset Preview:\")  # Print a label for context\n",
    "print(df.head(5))  # Display the first 5 rows of the dataset"
   ]
  },
  {
   "cell_type": "markdown",
   "id": "d2fe1e77",
   "metadata": {},
   "source": [
    "### **Exercise 1: Common Python Operations**\n",
    "**Question:** Print the sum of the first row's `age` and `hours-per-week`."
   ]
  },
  {
   "cell_type": "code",
   "execution_count": 368,
   "id": "e4c0f73f-5efd-4ad6-b0d4-18b472b3fc3f",
   "metadata": {
    "ExecuteTime": {
     "end_time": "2025-03-05T19:19:52.591074800Z",
     "start_time": "2025-03-05T19:19:52.589055200Z"
    }
   },
   "outputs": [
    {
     "name": "stdout",
     "output_type": "stream",
     "text": [
      "79\n"
     ]
    }
   ],
   "source": [
    "print(df['age'].iloc[0]+df['hours-per-week'].iloc[0])"
   ]
  },
  {
   "cell_type": "markdown",
   "id": "4c9f3e60",
   "metadata": {},
   "source": [
    "### **Exercise 2: String Manipulation**\n",
    "**Question:** Convert the first `workclass` entry to lowercase and strip any leading or trailing spaces."
   ]
  },
  {
   "cell_type": "code",
   "execution_count": 369,
   "id": "b2a4783c",
   "metadata": {
    "ExecuteTime": {
     "end_time": "2025-03-05T19:19:52.597135400Z",
     "start_time": "2025-03-05T19:19:52.592085400Z"
    }
   },
   "outputs": [
    {
     "name": "stdout",
     "output_type": "stream",
     "text": [
      "state-gov\n"
     ]
    }
   ],
   "source": [
    "print(df['workclass'].iloc[0].lower().strip())\n"
   ]
  },
  {
   "cell_type": "markdown",
   "id": "6f7f7a0a",
   "metadata": {},
   "source": [
    "### **Exercise 3: Lists in Python**\n",
    "**Question:** Create a list of the unique values in the `education` column and print its length."
   ]
  },
  {
   "cell_type": "code",
   "execution_count": 370,
   "id": "64bf4d82",
   "metadata": {
    "ExecuteTime": {
     "end_time": "2025-03-05T19:19:52.602199900Z",
     "start_time": "2025-03-05T19:19:52.597135400Z"
    }
   },
   "outputs": [
    {
     "name": "stdout",
     "output_type": "stream",
     "text": [
      "16\n"
     ]
    }
   ],
   "source": [
    "education_list = df['education'].tolist()\n",
    "unique_list = list(set(education_list))\n",
    "print(len(unique_list)) \n"
   ]
  },
  {
   "cell_type": "markdown",
   "id": "eddf6630",
   "metadata": {},
   "source": [
    "### **Exercise 4: Sets in Python**\n",
    "**Question:** Check if the value \"Self-employed\" exists in the unique set of `workclass` values."
   ]
  },
  {
   "cell_type": "code",
   "execution_count": 371,
   "id": "2a98a3b2",
   "metadata": {
    "ExecuteTime": {
     "end_time": "2025-03-05T19:19:52.646690700Z",
     "start_time": "2025-03-05T19:19:52.601187600Z"
    }
   },
   "outputs": [
    {
     "name": "stdout",
     "output_type": "stream",
     "text": [
      "Does Self-employed exists in unique list?  False\n"
     ]
    }
   ],
   "source": [
    "print(\"Does Self-employed exists in unique list? \", \"Self-employed\" in unique_list )\n"
   ]
  },
  {
   "cell_type": "markdown",
   "id": "bdbab979",
   "metadata": {},
   "source": [
    "### **Exercise 5: Dictionaries in Python**\n",
    "**Question:** Create a dictionary from the first row's data. Print the `occupation` value from the dictionary."
   ]
  },
  {
   "cell_type": "code",
   "execution_count": 372,
   "id": "1a2daae1",
   "metadata": {
    "ExecuteTime": {
     "end_time": "2025-03-05T19:19:52.655786800Z",
     "start_time": "2025-03-05T19:19:52.608266900Z"
    }
   },
   "outputs": [
    {
     "name": "stdout",
     "output_type": "stream",
     "text": [
      "Adm-clerical\n"
     ]
    }
   ],
   "source": [
    "firts_row_dict = df.iloc[0].to_dict()\n",
    "\n",
    "occupation = firts_row_dict['occupation']\n",
    "print(occupation)\n"
   ]
  },
  {
   "cell_type": "markdown",
   "id": "51de8b97",
   "metadata": {},
   "source": [
    "### **Exercise 6: Conditional Statements in Python**\n",
    "**Question:** Write a function that returns \"Minor\" if the age is less than 18, \"Adult\" if between 18 and 65, and \"Senior\" if greater than 65. Test it on the first row's `age`."
   ]
  },
  {
   "cell_type": "code",
   "execution_count": 373,
   "id": "815ffb15",
   "metadata": {
    "ExecuteTime": {
     "end_time": "2025-03-05T19:19:52.656800700Z",
     "start_time": "2025-03-05T19:19:52.614337700Z"
    }
   },
   "outputs": [
    {
     "name": "stdout",
     "output_type": "stream",
     "text": [
      "Adult\n"
     ]
    }
   ],
   "source": [
    "age = df['age'].iloc[0]\n",
    "if age < 18:\n",
    "    print(\"Minor\")\n",
    "elif age >= 18 and age <= 65:\n",
    "    print(\"Adult\")\n",
    "else:\n",
    "    print(\"Senior\")\n"
   ]
  },
  {
   "cell_type": "markdown",
   "id": "9054a180",
   "metadata": {},
   "source": [
    "### **Exercise 7: For Loops**\n",
    "**Question:** Iterate through the first 5 rows of `workclass` and print each entry."
   ]
  },
  {
   "cell_type": "code",
   "execution_count": 374,
   "id": "f393c2fe",
   "metadata": {
    "ExecuteTime": {
     "end_time": "2025-03-05T19:19:52.656800700Z",
     "start_time": "2025-03-05T19:19:52.619395700Z"
    }
   },
   "outputs": [
    {
     "name": "stdout",
     "output_type": "stream",
     "text": [
      "State-gov\n",
      "Self-emp-not-inc\n",
      "Private\n",
      "Private\n",
      "Private\n"
     ]
    }
   ],
   "source": [
    "for i in range(5):\n",
    "    print(df['workclass'].iloc[i])\n"
   ]
  },
  {
   "cell_type": "markdown",
   "id": "95505624",
   "metadata": {},
   "source": [
    "### **Exercise 8: Functions**\n",
    "**Question:** Define a function `sum_columns` that takes two column names and an index, sums the values of the specified columns at the given index, and returns the result. Test it with `age` and `hours-per-week` at the first row."
   ]
  },
  {
   "cell_type": "code",
   "execution_count": 375,
   "id": "05034c7e",
   "metadata": {
    "ExecuteTime": {
     "end_time": "2025-03-05T19:19:52.656800700Z",
     "start_time": "2025-03-05T19:19:52.623435900Z"
    }
   },
   "outputs": [
    {
     "name": "stdout",
     "output_type": "stream",
     "text": [
      "age and hours-per-week colums summed together 93\n"
     ]
    }
   ],
   "source": [
    "def sum_columns(name1,name2,index):\n",
    "    print(f\"{name1} and {name2} colums summed together\", df[name1].iloc[index]+df[name2].iloc[index])\n",
    "\n",
    "sum_columns(\"age\",\"hours-per-week\",3)\n"
   ]
  },
  {
   "cell_type": "markdown",
   "id": "35d4a4cf",
   "metadata": {},
   "source": [
    "### **Exercise 9: File Handling**\n",
    "**Question:** Save the first 10 rows of the dataframe to `output.csv` and read it back. Print the first 2 rows from the loaded CSV."
   ]
  },
  {
   "cell_type": "code",
   "execution_count": 376,
   "id": "5ad3fa94",
   "metadata": {
    "ExecuteTime": {
     "end_time": "2025-03-05T19:19:52.656800700Z",
     "start_time": "2025-03-05T19:19:52.628490800Z"
    }
   },
   "outputs": [
    {
     "name": "stdout",
     "output_type": "stream",
     "text": [
      "   Unnamed: 0  age         workclass  fnlwgt  education  education-num  \\\n",
      "0           0   39         State-gov   77516  Bachelors             13   \n",
      "1           1   50  Self-emp-not-inc   83311  Bachelors             13   \n",
      "\n",
      "       marital-status       occupation   relationship   race   sex  \\\n",
      "0       Never-married     Adm-clerical  Not-in-family  White  Male   \n",
      "1  Married-civ-spouse  Exec-managerial        Husband  White  Male   \n",
      "\n",
      "   capital-gain  capital-loss  hours-per-week native-country salary  \n",
      "0          2174             0              40  United-States  <=50K  \n",
      "1             0             0              13  United-States  <=50K  \n"
     ]
    }
   ],
   "source": [
    "first_ten_rows = df.head(10)\n",
    "first_ten_rows.to_csv(\"sample.csv\",index=True)\n",
    "sample = pd.read_csv(\"sample.csv\")\n",
    "print(sample.head(2))\n",
    "\n",
    "\n"
   ]
  },
  {
   "cell_type": "markdown",
   "id": "6744b80f",
   "metadata": {},
   "source": [
    "### **Exercise 10: Debugging in Python**\n",
    "**Question:** Write a try/except block to handle a `KeyError` when accessing a non-existent column `\"salary\"`. Print an appropriate error message when caught."
   ]
  },
  {
   "cell_type": "code",
   "execution_count": 377,
   "id": "25de3093",
   "metadata": {
    "ExecuteTime": {
     "end_time": "2025-03-05T19:19:52.656800700Z",
     "start_time": "2025-03-05T19:19:52.641630100Z"
    }
   },
   "outputs": [
    {
     "name": "stdout",
     "output_type": "stream",
     "text": [
      "<=50K\n"
     ]
    }
   ],
   "source": [
    "try:\n",
    "    print(df[\"salary\"].iloc[1])\n",
    "except KeyError:\n",
    "    print(\"not existing\")\n"
   ]
  },
  {
   "cell_type": "code",
   "execution_count": 377,
   "id": "66872290-beec-49c1-bcd1-741e50521d59",
   "metadata": {
    "ExecuteTime": {
     "end_time": "2025-03-05T19:19:52.656800700Z",
     "start_time": "2025-03-05T19:19:52.644665200Z"
    }
   },
   "outputs": [],
   "source": []
  }
 ],
 "metadata": {
  "kernelspec": {
   "display_name": "Python 3 (ipykernel)",
   "language": "python",
   "name": "python3"
  },
  "language_info": {
   "codemirror_mode": {
    "name": "ipython",
    "version": 3
   },
   "file_extension": ".py",
   "mimetype": "text/x-python",
   "name": "python",
   "nbconvert_exporter": "python",
   "pygments_lexer": "ipython3",
   "version": "3.11.9"
  }
 },
 "nbformat": 4,
 "nbformat_minor": 5
}
