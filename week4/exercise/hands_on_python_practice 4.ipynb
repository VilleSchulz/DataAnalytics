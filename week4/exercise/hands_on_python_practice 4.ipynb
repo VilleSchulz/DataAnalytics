{
 "cells": [
  {
   "cell_type": "markdown",
   "id": "e3af01f0-eb01-4668-ba00-755922f5413a",
   "metadata": {},
   "source": [
    "## Hands-on - Probability Distributions and Variability"
   ]
  },
  {
   "cell_type": "code",
   "execution_count": 263,
   "id": "a56353bd",
   "metadata": {
    "ExecuteTime": {
     "end_time": "2025-03-27T21:49:18.159795600Z",
     "start_time": "2025-03-27T21:49:17.918836400Z"
    }
   },
   "outputs": [
    {
     "name": "stdout",
     "output_type": "stream",
     "text": [
      "Dataset Preview:\n",
      "   Year  CSIRO Adjusted Sea Level  Lower Error Bound  Upper Error Bound  \\\n",
      "0  1880                  0.000000          -0.952756           0.952756   \n",
      "1  1881                  0.220472          -0.732283           1.173228   \n",
      "2  1882                 -0.440945          -1.346457           0.464567   \n",
      "3  1883                 -0.232283          -1.129921           0.665354   \n",
      "4  1884                  0.590551          -0.283465           1.464567   \n",
      "\n",
      "   NOAA Adjusted Sea Level  \n",
      "0                      NaN  \n",
      "1                      NaN  \n",
      "2                      NaN  \n",
      "3                      NaN  \n",
      "4                      NaN  \n"
     ]
    }
   ],
   "source": [
    "# Import necessary libraries\n",
    "import pandas as pd\n",
    "import numpy as np\n",
    "import seaborn as sns\n",
    "import scipy.stats as stats\n",
    "import matplotlib.pyplot as plt\n",
    "from scipy.stats import binom, norm, ttest_1samp, mannwhitneyu, chi2_contingency\n",
    "\n",
    "# Load dataset from GitHub URL\n",
    "file_path = \"https://raw.githubusercontent.com/Hamed-Ahmadinia/DASP-2025/main/epa-sea-level.csv\"  # URL link to the dataset stored on GitHub\n",
    "\n",
    "# Read the dataset into a pandas dataframe\n",
    "df = pd.read_csv(file_path)  # Load the dataset as a pandas DataFrame\n",
    "\n",
    "# Display the first few rows of the dataframe to confirm the data has been loaded correctly\n",
    "print(\"Dataset Preview:\")  # Print a label for context\n",
    "print(df.head(5))  # Display the first 5 rows of the dataset"
   ]
  },
  {
   "cell_type": "markdown",
   "id": "878fcaa5-7ebc-401a-99ae-c16c1c24bb9f",
   "metadata": {},
   "source": [
    "## **Exercise 1: Understanding the Dataset**\n",
    "🔹 **Question:** Display key statistics about the dataset using `.describe()`. `."
   ]
  },
  {
   "cell_type": "code",
   "execution_count": 264,
   "id": "ce2da9e1-00e5-477a-ab10-0afdc58ff97a",
   "metadata": {
    "ExecuteTime": {
     "end_time": "2025-03-27T21:49:18.162810Z",
     "start_time": "2025-03-27T21:49:17.972738Z"
    }
   },
   "outputs": [
    {
     "data": {
      "text/plain": "              Year  CSIRO Adjusted Sea Level  Lower Error Bound  \\\ncount   134.000000                134.000000         134.000000   \nmean   1946.500000                  3.650341           3.204666   \nstd      38.826537                  2.485692           2.663781   \nmin    1880.000000                 -0.440945          -1.346457   \n25%    1913.250000                  1.632874           1.078740   \n50%    1946.500000                  3.312992           2.915354   \n75%    1979.750000                  5.587598           5.329724   \nmax    2013.000000                  9.326772           8.992126   \n\n       Upper Error Bound  NOAA Adjusted Sea Level  \ncount         134.000000                21.000000  \nmean            4.096016                 7.363746  \nstd             2.312581                 0.691038  \nmin             0.464567                 6.297493  \n25%             2.240157                 6.848690  \n50%             3.710630                 7.488353  \n75%             5.845472                 7.907365  \nmax             9.661417                 8.546648  ",
      "text/html": "<div>\n<style scoped>\n    .dataframe tbody tr th:only-of-type {\n        vertical-align: middle;\n    }\n\n    .dataframe tbody tr th {\n        vertical-align: top;\n    }\n\n    .dataframe thead th {\n        text-align: right;\n    }\n</style>\n<table border=\"1\" class=\"dataframe\">\n  <thead>\n    <tr style=\"text-align: right;\">\n      <th></th>\n      <th>Year</th>\n      <th>CSIRO Adjusted Sea Level</th>\n      <th>Lower Error Bound</th>\n      <th>Upper Error Bound</th>\n      <th>NOAA Adjusted Sea Level</th>\n    </tr>\n  </thead>\n  <tbody>\n    <tr>\n      <th>count</th>\n      <td>134.000000</td>\n      <td>134.000000</td>\n      <td>134.000000</td>\n      <td>134.000000</td>\n      <td>21.000000</td>\n    </tr>\n    <tr>\n      <th>mean</th>\n      <td>1946.500000</td>\n      <td>3.650341</td>\n      <td>3.204666</td>\n      <td>4.096016</td>\n      <td>7.363746</td>\n    </tr>\n    <tr>\n      <th>std</th>\n      <td>38.826537</td>\n      <td>2.485692</td>\n      <td>2.663781</td>\n      <td>2.312581</td>\n      <td>0.691038</td>\n    </tr>\n    <tr>\n      <th>min</th>\n      <td>1880.000000</td>\n      <td>-0.440945</td>\n      <td>-1.346457</td>\n      <td>0.464567</td>\n      <td>6.297493</td>\n    </tr>\n    <tr>\n      <th>25%</th>\n      <td>1913.250000</td>\n      <td>1.632874</td>\n      <td>1.078740</td>\n      <td>2.240157</td>\n      <td>6.848690</td>\n    </tr>\n    <tr>\n      <th>50%</th>\n      <td>1946.500000</td>\n      <td>3.312992</td>\n      <td>2.915354</td>\n      <td>3.710630</td>\n      <td>7.488353</td>\n    </tr>\n    <tr>\n      <th>75%</th>\n      <td>1979.750000</td>\n      <td>5.587598</td>\n      <td>5.329724</td>\n      <td>5.845472</td>\n      <td>7.907365</td>\n    </tr>\n    <tr>\n      <th>max</th>\n      <td>2013.000000</td>\n      <td>9.326772</td>\n      <td>8.992126</td>\n      <td>9.661417</td>\n      <td>8.546648</td>\n    </tr>\n  </tbody>\n</table>\n</div>"
     },
     "execution_count": 264,
     "metadata": {},
     "output_type": "execute_result"
    }
   ],
   "source": [
    "df.describe()"
   ]
  },
  {
   "cell_type": "markdown",
   "id": "7186c00d-4ac0-4853-8977-728f17e0ab64",
   "metadata": {},
   "source": [
    "## **Exercise 2: Identifying Outliers**\n",
    "🔹 **Question:** Use the **interquartile range (IQR)** method to detect outliers in the **CSIRO Adjusted Sea Level** column. .)re)  \n"
   ]
  },
  {
   "cell_type": "code",
   "execution_count": 265,
   "id": "40ffded5-78e1-43f9-b0ab-979662f0e3b1",
   "metadata": {
    "ExecuteTime": {
     "end_time": "2025-03-27T21:49:18.164708300Z",
     "start_time": "2025-03-27T21:49:18.006256400Z"
    }
   },
   "outputs": [
    {
     "name": "stdout",
     "output_type": "stream",
     "text": [
      "no outliers in range <- -4.299212594249999 or 11.51968502775 -> \n"
     ]
    }
   ],
   "source": [
    "# Your code here:\n",
    "\n",
    "outlier_found = False\n",
    "sea_level = df['CSIRO Adjusted Sea Level']\n",
    "Q1= sea_level.quantile(0.25)\n",
    "Q3= sea_level.quantile(0.75)\n",
    "IQR = Q3-Q1\n",
    "\n",
    "lower_bound= Q1-1.5*IQR\n",
    "upper_bound = Q3+1.5*IQR\n",
    "outliners=[]\n",
    "for x in sea_level:\n",
    "    if x < lower_bound or x > upper_bound:\n",
    "        outlier_found = True\n",
    "        outliners.append(x)\n",
    "\n",
    "if not outlier_found:\n",
    "    print(f'no outliers in range <- {lower_bound} or {upper_bound} -> ')\n",
    "else:\n",
    "    print(outliners)"
   ]
  },
  {
   "cell_type": "markdown",
   "id": "abb7e8b6-88f3-4c20-a706-1866b901f936",
   "metadata": {},
   "source": [
    "## **Exercise 3: Exploring Distributions**\n",
    "🔹 **Question:** Create a **boxplot** of sea level rise grouped by decade (e.g., 1880-1890, 1891-1900, etc.). e?"
   ]
  },
  {
   "cell_type": "code",
   "execution_count": 266,
   "id": "f2530035-c7dc-49e8-b34a-6eb82408850c",
   "metadata": {
    "ExecuteTime": {
     "end_time": "2025-03-27T21:49:18.247733700Z",
     "start_time": "2025-03-27T21:49:18.146257600Z"
    }
   },
   "outputs": [
    {
     "data": {
      "text/plain": "        count      mean       std       min       25%       50%       75%  \\\ndecade                                                                      \n1880     10.0  0.198425  0.332180 -0.440945  0.054134  0.259843  0.418307   \n1890     10.0  0.659449  0.323039  0.303150  0.447835  0.586614  0.747047   \n1900     10.0  1.214173  0.166746  0.984252  1.114173  1.198819  1.269685   \n1910     10.0  1.732677  0.257442  1.271654  1.560039  1.793307  1.854331   \n1920     10.0  1.915748  0.105416  1.712598  1.864173  1.929134  1.997047   \n1930     10.0  2.376378  0.244758  2.047244  2.239173  2.368110  2.501969   \n1940     10.0  3.141732  0.294724  2.618110  2.992126  3.098425  3.343504   \n1950     10.0  4.013780  0.252591  3.598425  3.884843  3.968504  4.229331   \n1960     10.0  4.514173  0.169887  4.169291  4.459646  4.494094  4.593504   \n1970     10.0  5.227559  0.282270  4.677165  5.062992  5.332677  5.399606   \n1980     10.0  5.933858  0.207397  5.598425  5.777559  5.919291  6.136811   \n1990     10.0  6.586614  0.297185  6.232283  6.340551  6.559055  6.756890   \n2000     10.0  7.782677  0.466663  7.062992  7.471457  7.751968  7.976378   \n2010      4.0  9.043307  0.192014  8.901575  8.948819  8.972441  9.066929   \n\n             max  \ndecade            \n1880    0.590551  \n1890    1.338583  \n1900    1.606299  \n1910    2.106299  \n1920    2.047244  \n1930    2.826772  \n1940    3.562992  \n1950    4.358268  \n1960    4.751968  \n1970    5.555118  \n1980    6.188976  \n1990    7.066929  \n2000    8.586614  \n2010    9.326772  ",
      "text/html": "<div>\n<style scoped>\n    .dataframe tbody tr th:only-of-type {\n        vertical-align: middle;\n    }\n\n    .dataframe tbody tr th {\n        vertical-align: top;\n    }\n\n    .dataframe thead th {\n        text-align: right;\n    }\n</style>\n<table border=\"1\" class=\"dataframe\">\n  <thead>\n    <tr style=\"text-align: right;\">\n      <th></th>\n      <th>count</th>\n      <th>mean</th>\n      <th>std</th>\n      <th>min</th>\n      <th>25%</th>\n      <th>50%</th>\n      <th>75%</th>\n      <th>max</th>\n    </tr>\n    <tr>\n      <th>decade</th>\n      <th></th>\n      <th></th>\n      <th></th>\n      <th></th>\n      <th></th>\n      <th></th>\n      <th></th>\n      <th></th>\n    </tr>\n  </thead>\n  <tbody>\n    <tr>\n      <th>1880</th>\n      <td>10.0</td>\n      <td>0.198425</td>\n      <td>0.332180</td>\n      <td>-0.440945</td>\n      <td>0.054134</td>\n      <td>0.259843</td>\n      <td>0.418307</td>\n      <td>0.590551</td>\n    </tr>\n    <tr>\n      <th>1890</th>\n      <td>10.0</td>\n      <td>0.659449</td>\n      <td>0.323039</td>\n      <td>0.303150</td>\n      <td>0.447835</td>\n      <td>0.586614</td>\n      <td>0.747047</td>\n      <td>1.338583</td>\n    </tr>\n    <tr>\n      <th>1900</th>\n      <td>10.0</td>\n      <td>1.214173</td>\n      <td>0.166746</td>\n      <td>0.984252</td>\n      <td>1.114173</td>\n      <td>1.198819</td>\n      <td>1.269685</td>\n      <td>1.606299</td>\n    </tr>\n    <tr>\n      <th>1910</th>\n      <td>10.0</td>\n      <td>1.732677</td>\n      <td>0.257442</td>\n      <td>1.271654</td>\n      <td>1.560039</td>\n      <td>1.793307</td>\n      <td>1.854331</td>\n      <td>2.106299</td>\n    </tr>\n    <tr>\n      <th>1920</th>\n      <td>10.0</td>\n      <td>1.915748</td>\n      <td>0.105416</td>\n      <td>1.712598</td>\n      <td>1.864173</td>\n      <td>1.929134</td>\n      <td>1.997047</td>\n      <td>2.047244</td>\n    </tr>\n    <tr>\n      <th>1930</th>\n      <td>10.0</td>\n      <td>2.376378</td>\n      <td>0.244758</td>\n      <td>2.047244</td>\n      <td>2.239173</td>\n      <td>2.368110</td>\n      <td>2.501969</td>\n      <td>2.826772</td>\n    </tr>\n    <tr>\n      <th>1940</th>\n      <td>10.0</td>\n      <td>3.141732</td>\n      <td>0.294724</td>\n      <td>2.618110</td>\n      <td>2.992126</td>\n      <td>3.098425</td>\n      <td>3.343504</td>\n      <td>3.562992</td>\n    </tr>\n    <tr>\n      <th>1950</th>\n      <td>10.0</td>\n      <td>4.013780</td>\n      <td>0.252591</td>\n      <td>3.598425</td>\n      <td>3.884843</td>\n      <td>3.968504</td>\n      <td>4.229331</td>\n      <td>4.358268</td>\n    </tr>\n    <tr>\n      <th>1960</th>\n      <td>10.0</td>\n      <td>4.514173</td>\n      <td>0.169887</td>\n      <td>4.169291</td>\n      <td>4.459646</td>\n      <td>4.494094</td>\n      <td>4.593504</td>\n      <td>4.751968</td>\n    </tr>\n    <tr>\n      <th>1970</th>\n      <td>10.0</td>\n      <td>5.227559</td>\n      <td>0.282270</td>\n      <td>4.677165</td>\n      <td>5.062992</td>\n      <td>5.332677</td>\n      <td>5.399606</td>\n      <td>5.555118</td>\n    </tr>\n    <tr>\n      <th>1980</th>\n      <td>10.0</td>\n      <td>5.933858</td>\n      <td>0.207397</td>\n      <td>5.598425</td>\n      <td>5.777559</td>\n      <td>5.919291</td>\n      <td>6.136811</td>\n      <td>6.188976</td>\n    </tr>\n    <tr>\n      <th>1990</th>\n      <td>10.0</td>\n      <td>6.586614</td>\n      <td>0.297185</td>\n      <td>6.232283</td>\n      <td>6.340551</td>\n      <td>6.559055</td>\n      <td>6.756890</td>\n      <td>7.066929</td>\n    </tr>\n    <tr>\n      <th>2000</th>\n      <td>10.0</td>\n      <td>7.782677</td>\n      <td>0.466663</td>\n      <td>7.062992</td>\n      <td>7.471457</td>\n      <td>7.751968</td>\n      <td>7.976378</td>\n      <td>8.586614</td>\n    </tr>\n    <tr>\n      <th>2010</th>\n      <td>4.0</td>\n      <td>9.043307</td>\n      <td>0.192014</td>\n      <td>8.901575</td>\n      <td>8.948819</td>\n      <td>8.972441</td>\n      <td>9.066929</td>\n      <td>9.326772</td>\n    </tr>\n  </tbody>\n</table>\n</div>"
     },
     "execution_count": 266,
     "metadata": {},
     "output_type": "execute_result"
    }
   ],
   "source": [
    "df['decade']= (df['Year']//10)*10\n",
    "sea_level_rise = df.groupby('decade')['CSIRO Adjusted Sea Level']\n",
    "sea_level_rise.describe()"
   ]
  },
  {
   "cell_type": "markdown",
   "id": "3542b40f-45c0-4b19-a00b-6832bb1f8933",
   "metadata": {},
   "source": [
    "## **Exercise 4: Hypothesis Testing on Trends**\n",
    "🔹 **Question:** Perform a **T-test** to check if the mean sea level in the 21st century (2000-2014) is significantly higher than in the 20th century (1900-1999).  \n"
   ]
  },
  {
   "cell_type": "code",
   "execution_count": 267,
   "id": "e71a544c-dafa-4277-93fc-55877a245927",
   "metadata": {
    "ExecuteTime": {
     "end_time": "2025-03-27T21:49:18.264752500Z",
     "start_time": "2025-03-27T21:49:18.190271200Z"
    }
   },
   "outputs": [],
   "source": [
    "# Your code here:"
   ]
  },
  {
   "cell_type": "markdown",
   "id": "6fc3984d-5b71-4117-8ab8-f9bc81434f13",
   "metadata": {},
   "source": [
    "## **Exercise 5: Probability Distributions**\n",
    "🔹 **Question:** Fit a **Poisson distribution** to the sea level rise data. ? \n"
   ]
  },
  {
   "cell_type": "code",
   "execution_count": 268,
   "id": "a45846a0-4136-4985-a2e1-f9706ee40ce6",
   "metadata": {
    "ExecuteTime": {
     "end_time": "2025-03-27T21:49:18.325271500Z",
     "start_time": "2025-03-27T21:49:18.205273200Z"
    }
   },
   "outputs": [],
   "source": [
    "# Your code here:"
   ]
  },
  {
   "cell_type": "markdown",
   "id": "fdd2c687-f411-4f99-860d-8e2c0be0ac3c",
   "metadata": {},
   "source": [
    "## **Exercise 6: Correlation Analysis**\n",
    "🔹 **Question:** Check if there is a correlation between **CSIRO Adjusted Sea Level** and **NOAA Adjusted Sea Level**.  "
   ]
  },
  {
   "cell_type": "code",
   "execution_count": 269,
   "id": "aa3aa4e7-0e20-4d5f-86bb-e1ecd6daa7e5",
   "metadata": {
    "ExecuteTime": {
     "end_time": "2025-03-27T21:49:18.386756400Z",
     "start_time": "2025-03-27T21:49:18.220931800Z"
    }
   },
   "outputs": [],
   "source": [
    "# Your code here:"
   ]
  },
  {
   "cell_type": "markdown",
   "id": "c4953368-3130-4dc9-a0ff-bd31e02a00bc",
   "metadata": {},
   "source": [
    "## **Exercise 7: Summary Reflection**\n",
    "🔹 **Question:** Summarize your findings from this analysis.  "
   ]
  },
  {
   "cell_type": "code",
   "execution_count": 270,
   "id": "f765b2eb-eb5a-49c9-83ba-dd8f817a9069",
   "metadata": {
    "ExecuteTime": {
     "end_time": "2025-03-27T21:49:18.409197700Z",
     "start_time": "2025-03-27T21:49:18.236945100Z"
    }
   },
   "outputs": [],
   "source": [
    "# Your code here:"
   ]
  },
  {
   "cell_type": "code",
   "execution_count": 270,
   "id": "8b39c018-9959-41ef-a3b2-217d47c5c7df",
   "metadata": {
    "ExecuteTime": {
     "end_time": "2025-03-27T21:49:18.413197200Z",
     "start_time": "2025-03-27T21:49:18.252727600Z"
    }
   },
   "outputs": [],
   "source": []
  }
 ],
 "metadata": {
  "kernelspec": {
   "display_name": "Python 3 (ipykernel)",
   "language": "python",
   "name": "python3"
  },
  "language_info": {
   "codemirror_mode": {
    "name": "ipython",
    "version": 3
   },
   "file_extension": ".py",
   "mimetype": "text/x-python",
   "name": "python",
   "nbconvert_exporter": "python",
   "pygments_lexer": "ipython3",
   "version": "3.11.9"
  }
 },
 "nbformat": 4,
 "nbformat_minor": 5
}
