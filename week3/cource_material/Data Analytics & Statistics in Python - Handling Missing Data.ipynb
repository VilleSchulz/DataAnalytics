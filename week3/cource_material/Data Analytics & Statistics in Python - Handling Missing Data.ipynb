{
 "cells": [
  {
   "attachments": {},
   "cell_type": "markdown",
   "id": "3603e795-8a68-420f-af09-de9a5202760c",
   "metadata": {},
   "source": [
    "# Course Title: Data Analytics & Statistics in Python\n",
    "## Metropolia University of Applied Sciences\n",
    "## Week 3: Handling Missing Data\n",
    "### Date: 19.3.2025\n",
    "\n",
    "<table \"<table style=\"width: 100%;\">\n",
    "  <tr>\n",
    "    <td style=\"text-align: left; vertical-align: middle;\">\n",
    "      <ul style=\"list-style: none; padding-left: 0;\">\n",
    "        <li><strong>Instructor</strong>: Hamed Ahmadinia, Ph.D</li>\n",
    "        <li><strong>Email</strong>: hamed.ahmadinia@metropolia.fi\n",
    "        <li><strong>Web</strong>: www.ahmadinia.fi</li>          </li>\n",
    "      </ul>\n",
    "    </td>\n",
    "  </tr>\n",
    "</table>"
   ]
  },
  {
   "cell_type": "markdown",
   "id": "66033fde",
   "metadata": {},
   "source": [
    "## Handling Missing Data in Python\n",
    "**This notebook follows our lesson on missing data and covers different techniques to handle missing values in datasets.**\n",
    "\n",
    "We'll explore:\n",
    "- **Deleting missing values** (Listwise & Pairwise Deletion)\n",
    "- **Basic Imputation** (Mean, Median, Mode)\n",
    "- **Advanced Imputation** (KNN, MICE)\n",
    "- **Time-Series Handling** (Forward Fill, Backward Fill, Interpolation)\n",
    "- **Machine Learning for Missing Data** (Random Forest, XGBoost)\n",
    "- **Deep Learning Methods** (Autoencoders)\n",
    "\n",
    "**Let's get started! 🚀**"
   ]
  },
  {
   "cell_type": "code",
   "execution_count": 1,
   "id": "a2b65bc6-5066-4168-a8d3-d9e5300e8fb7",
   "metadata": {
    "ExecuteTime": {
     "end_time": "2025-03-28T12:37:16.245131900Z",
     "start_time": "2025-03-28T12:37:15.804812800Z"
    }
   },
   "outputs": [
    {
     "ename": "ModuleNotFoundError",
     "evalue": "No module named 'sklearn'",
     "output_type": "error",
     "traceback": [
      "\u001B[1;31m---------------------------------------------------------------------------\u001B[0m",
      "\u001B[1;31mModuleNotFoundError\u001B[0m                       Traceback (most recent call last)",
      "Cell \u001B[1;32mIn[1], line 7\u001B[0m\n\u001B[0;32m      4\u001B[0m \u001B[38;5;28;01mimport\u001B[39;00m \u001B[38;5;21;01mnumpy\u001B[39;00m \u001B[38;5;28;01mas\u001B[39;00m \u001B[38;5;21;01mnp\u001B[39;00m  \u001B[38;5;66;03m# NumPy for numerical computations\u001B[39;00m\n\u001B[0;32m      6\u001B[0m \u001B[38;5;66;03m# Imputation techniques from Scikit-learn\u001B[39;00m\n\u001B[1;32m----> 7\u001B[0m \u001B[38;5;28;01mfrom\u001B[39;00m \u001B[38;5;21;01msklearn\u001B[39;00m\u001B[38;5;21;01m.\u001B[39;00m\u001B[38;5;21;01mimpute\u001B[39;00m \u001B[38;5;28;01mimport\u001B[39;00m KNNImputer  \u001B[38;5;66;03m# KNN Imputer for filling missing values using K-Nearest Neighbors\u001B[39;00m\n\u001B[0;32m      8\u001B[0m \u001B[38;5;28;01mfrom\u001B[39;00m \u001B[38;5;21;01msklearn\u001B[39;00m\u001B[38;5;21;01m.\u001B[39;00m\u001B[38;5;21;01mensemble\u001B[39;00m \u001B[38;5;28;01mimport\u001B[39;00m RandomForestRegressor  \u001B[38;5;66;03m# Random Forest for machine learning-based imputation\u001B[39;00m\n\u001B[0;32m      9\u001B[0m \u001B[38;5;28;01mfrom\u001B[39;00m \u001B[38;5;21;01msklearn\u001B[39;00m\u001B[38;5;21;01m.\u001B[39;00m\u001B[38;5;21;01mmodel_selection\u001B[39;00m \u001B[38;5;28;01mimport\u001B[39;00m train_test_split  \u001B[38;5;66;03m# Splitting data into training and testing sets\u001B[39;00m\n",
      "\u001B[1;31mModuleNotFoundError\u001B[0m: No module named 'sklearn'"
     ]
    }
   ],
   "source": [
    "# Import necessary libraries\n",
    "import seaborn as sns  # Seaborn for data visualization\n",
    "import pandas as pd  # Pandas for data manipulation and analysis\n",
    "import numpy as np  # NumPy for numerical computations\n",
    "\n",
    "# Imputation techniques from Scikit-learn\n",
    "from sklearn.impute import KNNImputer  # KNN Imputer for filling missing values using K-Nearest Neighbors\n",
    "from sklearn.ensemble import RandomForestRegressor  # Random Forest for machine learning-based imputation\n",
    "from sklearn.model_selection import train_test_split  # Splitting data into training and testing sets\n",
    "\n",
    "# TensorFlow and Keras for building deep learning models\n",
    "from tensorflow import keras  # High-level API for building and training deep learning models\n",
    "from tensorflow.keras import layers  # Layers module for defining neural network architecture\n",
    "\n",
    "# Label Encoding from Scikit-learn\n",
    "from sklearn.preprocessing import LabelEncoder  # Convert categorical variables into numerical labels for ML models"
   ]
  },
  {
   "cell_type": "markdown",
   "id": "bc181791",
   "metadata": {},
   "source": [
    "## Step 1: Load an Dataset\n",
    "To demonstrate missing data handling techniques, we'll use the **Titanic dataset** from Seaborn.\n",
    "\n",
    "This dataset contains information about passengers on the Titanic, including:\n",
    "- Age (some values missing)\n",
    "- Cabin (many values missing)\n",
    "- Embarked (some values missing)\n",
    "\n",
    "Let's load the dataset and check for missing values."
   ]
  },
  {
   "cell_type": "code",
   "execution_count": null,
   "id": "b44bd240",
   "metadata": {
    "ExecuteTime": {
     "end_time": "2025-03-28T12:37:16.247161200Z",
     "start_time": "2025-03-28T12:37:16.245131900Z"
    }
   },
   "outputs": [],
   "source": [
    "# Load Titanic dataset\n",
    "df = sns.load_dataset('titanic')\n",
    "\n",
    "# Show the first few rows\n",
    "df.head()"
   ]
  },
  {
   "cell_type": "markdown",
   "id": "8e08e150",
   "metadata": {},
   "source": [
    "## Step 2: Detect Missing Values in Titanic Dataset\n",
    "Let's check how much data is missing in each column."
   ]
  },
  {
   "cell_type": "code",
   "execution_count": null,
   "id": "b88bc233",
   "metadata": {
    "ExecuteTime": {
     "start_time": "2025-03-28T12:37:16.247161200Z"
    }
   },
   "outputs": [],
   "source": [
    "# Check missing values\n",
    "print(df.isnull().sum())"
   ]
  },
  {
   "cell_type": "markdown",
   "id": "9262d6f5",
   "metadata": {},
   "source": [
    "## Step 3: Handle Missing Data\n",
    "We'll now apply different techniques to handle missing values in the Titanic dataset."
   ]
  },
  {
   "cell_type": "code",
   "execution_count": null,
   "id": "5abc7625",
   "metadata": {
    "ExecuteTime": {
     "end_time": "2025-03-28T12:37:16.249179600Z",
     "start_time": "2025-03-28T12:37:16.248169400Z"
    }
   },
   "outputs": [],
   "source": [
    "# Ensure column names are lowercase\n",
    "df.columns = df.columns.str.lower()\n",
    "\n",
    "# Mean Imputation for 'age'\n",
    "df['age'] = df['age'].fillna(df['age'].mean())\n",
    "\n",
    "# Mode Imputation for 'embarked'\n",
    "df['embarked'] = df['embarked'].fillna(df['embarked'].mode()[0])\n",
    "\n",
    "# Drop 'cabin' column if it exists\n",
    "if 'cabin' in df.columns:\n",
    "    df = df.drop(columns=['cabin'])\n",
    "\n",
    "# Check missing values again\n",
    "print(df.isnull().sum())"
   ]
  },
  {
   "cell_type": "markdown",
   "id": "0cb38aaf",
   "metadata": {},
   "source": [
    "## Step 4: Advanced Imputation (KNN)\n",
    "We can use **KNN Imputation** to predict missing values based on other features."
   ]
  },
  {
   "cell_type": "code",
   "execution_count": null,
   "id": "b6cb11ef",
   "metadata": {
    "ExecuteTime": {
     "start_time": "2025-03-28T12:37:16.250190400Z"
    }
   },
   "outputs": [],
   "source": [
    "# Load Titanic dataset\n",
    "df = sns.load_dataset('titanic')\n",
    "\n",
    "# Selecting only numerical features for KNN Imputation\n",
    "numerical_features = ['age', 'fare', 'pclass', 'sibsp', 'parch']  # Include relevant numerical columns\n",
    "\n",
    "# Initialize KNN Imputer (using k=5 neighbors)\n",
    "knn_imputer = KNNImputer(n_neighbors=5)\n",
    "\n",
    "# Apply KNN imputation to numerical columns\n",
    "df[numerical_features] = knn_imputer.fit_transform(df[numerical_features])\n",
    "\n",
    "# Check missing values\n",
    "print(df.isnull().sum())"
   ]
  },
  {
   "cell_type": "markdown",
   "id": "c1b28824-0671-4f58-b678-27093da842be",
   "metadata": {},
   "source": [
    "## Step 5: Advanced Imputation (KNN, MICE)\n",
    "Using **K-Nearest Neighbors (KNN)** to fill missing values based on similar passengers."
   ]
  },
  {
   "cell_type": "code",
   "execution_count": null,
   "id": "1a032500-da34-4c8e-9df8-82e44315523c",
   "metadata": {
    "ExecuteTime": {
     "start_time": "2025-03-28T12:37:16.251201100Z"
    }
   },
   "outputs": [],
   "source": [
    "# Load Titanic dataset\n",
    "df = sns.load_dataset('titanic')\n",
    "\n",
    "# Select only numeric columns for KNN\n",
    "knn_imputer = KNNImputer(n_neighbors=5)\n",
    "df[['age', 'fare']] = knn_imputer.fit_transform(df[['age', 'fare']])\n",
    "\n",
    "# Check missing values\n",
    "df.isnull().sum()"
   ]
  },
  {
   "cell_type": "markdown",
   "id": "54f09218-6f9c-4792-93f9-f7fbd90559a0",
   "metadata": {},
   "source": [
    "## Step 6: Time-Series Methods (Forward Fill, Backward Fill, Interpolation)\n",
    "These methods are useful when working with time-dependent data."
   ]
  },
  {
   "cell_type": "code",
   "execution_count": null,
   "id": "a27352f3-fa68-48a5-9463-3f8a99f21701",
   "metadata": {
    "ExecuteTime": {
     "end_time": "2025-03-28T12:37:16.252211100Z",
     "start_time": "2025-03-28T12:37:16.252211100Z"
    }
   },
   "outputs": [],
   "source": [
    "# Load Titanic dataset\n",
    "df = sns.load_dataset('titanic')\n",
    "\n",
    "# Forward Fill and Backward Fill\n",
    "df['age'] = df['age'].ffill()\n",
    "df['fare'] = df['fare'].bfill()\n",
    "\n",
    "# Interpolation\n",
    "df['age'] = df['age'].interpolate()\n",
    "\n",
    "# Check missing values\n",
    "df.isnull().sum()"
   ]
  },
  {
   "cell_type": "markdown",
   "id": "90f5db64-7132-41b0-b273-09de2af16489",
   "metadata": {},
   "source": [
    "## Step 7: Machine Learning for Imputation (Predicting Missing Values with Random Forest)\n",
    "Using Random Forest to predict and fill missing values in the 'age' column."
   ]
  },
  {
   "cell_type": "code",
   "execution_count": null,
   "id": "8d04181f-3b41-4082-9952-ba4cdc9778f7",
   "metadata": {
    "ExecuteTime": {
     "start_time": "2025-03-28T12:37:16.253223100Z"
    }
   },
   "outputs": [],
   "source": [
    "# Load Titanic dataset\n",
    "df = sns.load_dataset('titanic')\n",
    "\n",
    "# Drop rows where 'age' is missing for training\n",
    "df_ml = df.dropna(subset=['age'])\n",
    "X = df_ml[['fare', 'parch', 'sibsp']]\n",
    "y = df_ml['age']\n",
    "\n",
    "# Train-test split\n",
    "X_train, X_test, y_train, y_test = train_test_split(X, y, test_size=0.2, random_state=42)\n",
    "\n",
    "# Train model\n",
    "rf = RandomForestRegressor()\n",
    "rf.fit(X_train, y_train)\n",
    "\n",
    "# Predict missing values only if they exist\n",
    "if df['age'].isnull().sum() > 0:\n",
    "    df.loc[df['age'].isnull(), 'age'] = rf.predict(df[df['age'].isnull()][['fare', 'parch', 'sibsp']])\n",
    "else:\n",
    "    print('No missing values left in age.')"
   ]
  },
  {
   "cell_type": "markdown",
   "id": "26a90e5c-a956-44fc-b740-1e59c5faa68b",
   "metadata": {},
   "source": [
    "## Step 8: Deep Learning for Imputation (Autoencoders to Fill Missing Data)\n",
    "Using a neural network (Autoencoder) to learn patterns and fill missing values."
   ]
  },
  {
   "cell_type": "code",
   "execution_count": null,
   "id": "06725f12-90da-4110-8f34-1c06daaab156",
   "metadata": {
    "ExecuteTime": {
     "start_time": "2025-03-28T12:37:16.254234800Z"
    }
   },
   "outputs": [],
   "source": [
    "# Load Titanic dataset\n",
    "df = sns.load_dataset('titanic')\n",
    "\n",
    "# Convert categorical variables to numbers\n",
    "categorical_cols = ['sex', 'embarked', 'who', 'class', 'alive', 'deck', 'embark_town']\n",
    "df_encoded = df.copy()\n",
    "\n",
    "for col in categorical_cols:\n",
    "    df_encoded[col] = LabelEncoder().fit_transform(df_encoded[col].astype(str))\n",
    "\n",
    "# Fill missing values with column mean and convert all values to float\n",
    "df_filled = df_encoded.fillna(df_encoded.mean()).astype(np.float32).values  # Ensures TensorFlow compatibility\n",
    "\n",
    "# Define Autoencoder model with Input layer\n",
    "input_dim = df_filled.shape[1]\n",
    "autoencoder = keras.Sequential([\n",
    "    keras.Input(shape=(input_dim,)),  # Corrected Input Layer\n",
    "    layers.Dense(64, activation='relu'),\n",
    "    layers.Dense(32, activation='relu'),\n",
    "    layers.Dense(64, activation='relu'),\n",
    "    layers.Dense(input_dim, activation='linear')\n",
    "])\n",
    "\n",
    "# Compile and Train\n",
    "autoencoder.compile(optimizer='adam', loss='mse')\n",
    "autoencoder.fit(df_filled, df_filled, epochs=10, batch_size=16, verbose=1)\n",
    "\n",
    "# Predict and fill missing values\n",
    "df_filled_autoencoder = autoencoder.predict(df_filled)\n",
    "df_filled_autoencoder = pd.DataFrame(df_filled_autoencoder, columns=df_encoded.columns)\n",
    "\n",
    "# Check missing values\n",
    "print(df_filled_autoencoder.isnull().sum())\n"
   ]
  },
  {
   "cell_type": "markdown",
   "id": "3ee32fdf-0ab8-402e-b15f-e9d767095c2c",
   "metadata": {},
   "source": [
    "## Step 9: Comparing Methods (Checking which Imputation Works Best)\n",
    "Compare different imputation methods to see which one works best."
   ]
  },
  {
   "cell_type": "code",
   "execution_count": null,
   "id": "aa0857f4-ee44-47c7-b472-00fd728787ee",
   "metadata": {
    "ExecuteTime": {
     "start_time": "2025-03-28T12:37:16.255247300Z"
    }
   },
   "outputs": [],
   "source": [
    "# Load Titanic dataset\n",
    "df = sns.load_dataset('titanic')\n",
    "\n",
    "# Select numerical columns\n",
    "numeric_cols = df.select_dtypes(include=['number']).columns\n",
    "\n",
    "# Mean Imputation\n",
    "df_mean = df.copy()\n",
    "df_mean[numeric_cols] = df_mean[numeric_cols].fillna(df_mean[numeric_cols].mean())\n",
    "\n",
    "# KNN Imputation\n",
    "knn_imputer = KNNImputer(n_neighbors=5)\n",
    "df_knn = df.copy()\n",
    "df_knn[numeric_cols] = knn_imputer.fit_transform(df_knn[numeric_cols])\n",
    "\n",
    "# Debugging: Show missing values after KNN imputation\n",
    "print(\"Missing values after KNN Imputation:\")\n",
    "print(df_knn.isnull().sum())\n",
    "\n",
    "# ML-Based Imputation (Random Forest)\n",
    "df_ml_imputed = df.copy()\n",
    "\n",
    "# Train Random Forest only if 'age' has missing values\n",
    "if df['age'].isnull().sum() > 0:\n",
    "    # Prepare dataset for ML-based imputation\n",
    "    df_train = df_ml_imputed.dropna(subset=['age'])  # Remove missing target values\n",
    "    df_test = df_ml_imputed[df_ml_imputed['age'].isnull()]  # Rows where 'age' is missing\n",
    "    \n",
    "    X_train = df_train[['fare', 'parch', 'sibsp']]\n",
    "    y_train = df_train['age']\n",
    "    \n",
    "    X_test = df_test[['fare', 'parch', 'sibsp']]\n",
    "    \n",
    "    # Train a Random Forest model\n",
    "    rf = RandomForestRegressor(n_estimators=100, random_state=42)\n",
    "    rf.fit(X_train, y_train)\n",
    "    \n",
    "    # Predict missing values in 'age'\n",
    "    df_ml_imputed.loc[df_ml_imputed['age'].isnull(), 'age'] = rf.predict(X_test)\n",
    "    \n",
    "    print(\"ML-Based Imputation Done!\")\n",
    "else:\n",
    "    print(\"No missing values in 'age'.\")\n",
    "\n",
    "# Display results\n",
    "print(\"\\nFirst 5 rows after ML Imputation:\")\n",
    "print(df_ml_imputed[['age', 'fare', 'parch', 'sibsp']].head())"
   ]
  },
  {
   "cell_type": "markdown",
   "id": "7787b91d-f3e7-40d4-b056-98910ea3fd4d",
   "metadata": {},
   "source": [
    "## Step 10: Summary & Best Practices\n",
    "✅ **For small missing data (<5%)**, simple imputation is fine.\n",
    "\n",
    "✅ **For 5-30% missing values**, try KNN or MICE.\n",
    "\n",
    "✅ **For large missing data (>30%)**, use ML or deep learning.\n",
    "\n",
    "🚀 **Always test different methods and compare the results!**"
   ]
  },
  {
   "cell_type": "code",
   "execution_count": null,
   "id": "8a3648f5-2db1-4512-b791-9176961e530b",
   "metadata": {
    "ExecuteTime": {
     "start_time": "2025-03-28T12:37:16.256257800Z"
    }
   },
   "outputs": [],
   "source": []
  }
 ],
 "metadata": {
  "kernelspec": {
   "display_name": "Python 3 (ipykernel)",
   "language": "python",
   "name": "python3"
  },
  "language_info": {
   "codemirror_mode": {
    "name": "ipython",
    "version": 3
   },
   "file_extension": ".py",
   "mimetype": "text/x-python",
   "name": "python",
   "nbconvert_exporter": "python",
   "pygments_lexer": "ipython3",
   "version": "3.11.9"
  }
 },
 "nbformat": 4,
 "nbformat_minor": 5
}
