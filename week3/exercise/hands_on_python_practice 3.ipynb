{
 "cells": [
  {
   "cell_type": "markdown",
   "id": "e3af01f0-eb01-4668-ba00-755922f5413a",
   "metadata": {},
   "source": [
    "## Hands-on - Basic Statistics in Python"
   ]
  },
  {
   "cell_type": "code",
   "execution_count": 209,
   "id": "a56353bd",
   "metadata": {
    "ExecuteTime": {
     "end_time": "2025-03-25T14:34:37.708133700Z",
     "start_time": "2025-03-25T14:34:36.654171600Z"
    }
   },
   "outputs": [
    {
     "name": "stdout",
     "output_type": "stream",
     "text": [
      "Dataset Preview:\n",
      "     id    age  sex  height  weight  ap_hi  ap_lo  cholesterol  gluc  smoke  \\\n",
      "0     0  18393    2     168    62.0    110     80            1     1      0   \n",
      "1     1  20228    1     156    85.0    140     90            3     1      0   \n",
      "2     2  18857    1     165    64.0    130     70            3     1      0   \n",
      "3     3  17623    2     169    82.0    150    100            1     1      0   \n",
      "4     4  17474    1     156    56.0    100     60            1     1      0   \n",
      "..  ...    ...  ...     ...     ...    ...    ...          ...   ...    ...   \n",
      "95  129  21076    1     158    53.0    110     70            1     1      0   \n",
      "96  131  19258    2     165    65.0    110     70            1     1      0   \n",
      "97  132  18410    1     165    99.0    150    110            1     1      0   \n",
      "98  133  21860    2     170   100.0    120     80            1     1      0   \n",
      "99  134  17363    1     167    71.0    120     80            2     1      0   \n",
      "\n",
      "    alco  active  cardio  \n",
      "0      0       1       0  \n",
      "1      0       1       1  \n",
      "2      0       0       1  \n",
      "3      0       1       1  \n",
      "4      0       0       0  \n",
      "..   ...     ...     ...  \n",
      "95     0       1       0  \n",
      "96     0       1       0  \n",
      "97     0       0       1  \n",
      "98     0       0       1  \n",
      "99     1       1       1  \n",
      "\n",
      "[100 rows x 13 columns]\n"
     ]
    }
   ],
   "source": [
    "# Import necessary libraries\n",
    "import pandas as pd  # for handling tabular datasets\n",
    "import numpy as np  # for numerical computations\n",
    "from scipy import stats  # for statistical operations\n",
    "import matplotlib.pyplot as plt  # for plotting\n",
    "import seaborn as sns  # for advanced statistical plots\n",
    "\n",
    "# Load dataset from GitHub URL\n",
    "file_path = \"https://raw.githubusercontent.com/Hamed-Ahmadinia/DASP-2025/refs/heads/main/medical_examination.csv\"  # URL link to the dataset stored on GitHub\n",
    "\n",
    "# Read the dataset into a pandas dataframe\n",
    "df = pd.read_csv(file_path)  # Load the dataset as a pandas DataFrame\n",
    "\n",
    "# Display the first few rows of the dataframe to confirm the data has been loaded correctly\n",
    "print(\"Dataset Preview:\")  # Print a label for context\n",
    "print(df.head(100))  # Display the first 5 rows of the dataset"
   ]
  },
  {
   "cell_type": "markdown",
   "id": "878fcaa5-7ebc-401a-99ae-c16c1c24bb9f",
   "metadata": {},
   "source": [
    "### **Exercise 1: Display Dataset Information**\n",
    "**Question:** Use df.info() to display basic information about the dataset."
   ]
  },
  {
   "cell_type": "code",
   "execution_count": 210,
   "id": "ce2da9e1-00e5-477a-ab10-0afdc58ff97a",
   "metadata": {
    "ExecuteTime": {
     "end_time": "2025-03-25T14:34:37.767548600Z",
     "start_time": "2025-03-25T14:34:37.711675600Z"
    }
   },
   "outputs": [
    {
     "name": "stdout",
     "output_type": "stream",
     "text": [
      "<class 'pandas.core.frame.DataFrame'>\n",
      "RangeIndex: 70000 entries, 0 to 69999\n",
      "Data columns (total 13 columns):\n",
      " #   Column       Non-Null Count  Dtype  \n",
      "---  ------       --------------  -----  \n",
      " 0   id           70000 non-null  int64  \n",
      " 1   age          70000 non-null  int64  \n",
      " 2   sex          70000 non-null  int64  \n",
      " 3   height       70000 non-null  int64  \n",
      " 4   weight       70000 non-null  float64\n",
      " 5   ap_hi        70000 non-null  int64  \n",
      " 6   ap_lo        70000 non-null  int64  \n",
      " 7   cholesterol  70000 non-null  int64  \n",
      " 8   gluc         70000 non-null  int64  \n",
      " 9   smoke        70000 non-null  int64  \n",
      " 10  alco         70000 non-null  int64  \n",
      " 11  active       70000 non-null  int64  \n",
      " 12  cardio       70000 non-null  int64  \n",
      "dtypes: float64(1), int64(12)\n",
      "memory usage: 6.9 MB\n"
     ]
    }
   ],
   "source": [
    "# Your code here:\n",
    "df.info()"
   ]
  },
  {
   "cell_type": "markdown",
   "id": "7186c00d-4ac0-4853-8977-728f17e0ab64",
   "metadata": {},
   "source": [
    "### **Exercise 2: Calculate Minimum and Maximum Values**  \n",
    "**Question:** Calculate the **minimum** and **maximum** values for the following columns:  \n",
    "\n",
    "- **\"height\"**  \n",
    "- **\"weight\"**  \n",
    "- **\"ap_hi\"** (systolic blood pressure)  \n",
    "- **\"ap_lo\"** (diasblood pressure)re)  \n"
   ]
  },
  {
   "cell_type": "code",
   "execution_count": 211,
   "id": "40ffded5-78e1-43f9-b0ab-979662f0e3b1",
   "metadata": {
    "ExecuteTime": {
     "end_time": "2025-03-25T14:34:37.777454500Z",
     "start_time": "2025-03-25T14:34:37.727562100Z"
    }
   },
   "outputs": [
    {
     "name": "stdout",
     "output_type": "stream",
     "text": [
      "height min/max: 55/250\n",
      "weight min/max: 10.0/200.0\n",
      "systolic blood pressure min/max: -150/16020\n",
      "diasblood pressre min/max:-70/11000\n"
     ]
    }
   ],
   "source": [
    "#takes min and max values from selected columns and makes new table from them\n",
    "min_max_values = df[['height', 'weight', 'ap_hi', 'ap_lo']].agg(['min', 'max'])\n",
    "#gets min row value from height column and print them\n",
    "print(f\"height min/max: {min_max_values.loc['min', 'height']}/{min_max_values.loc['max', 'height']}\")\n",
    "print(f\"weight min/max: {min_max_values.loc['min', 'weight']}/{min_max_values.loc['max', 'weight']}\")\n",
    "print(f\"systolic blood pressure min/max: {min_max_values.loc['min', 'ap_hi']}/{min_max_values.loc['max', 'ap_hi']}\")\n",
    "print(f\"diasblood pressre min/max:{min_max_values.loc['min', 'ap_lo']}/{min_max_values.loc['max', 'ap_lo']}\")\n",
    "\n",
    "\n",
    "\n"
   ]
  },
  {
   "cell_type": "markdown",
   "id": "abb7e8b6-88f3-4c20-a706-1866b901f936",
   "metadata": {},
   "source": [
    "### **Exercise 3: Compute Measures of Central Tendency**  \n",
    "**Question:** Calculate the **mean**, **median**, and **mode** for the specified columns:  \n",
    "\n",
    "- **Mean:** Compute the mean of the **\"weight\"** column.  \n",
    "- **Median:** Compute the median of the **\"ap_hi\"** (systolic blood pressure) column.  \n",
    "- **Mode:** Compute the mode of the **\"gender\"** column.  "
   ]
  },
  {
   "cell_type": "code",
   "execution_count": 212,
   "id": "f2530035-c7dc-49e8-b34a-6eb82408850c",
   "metadata": {
    "ExecuteTime": {
     "end_time": "2025-03-25T14:34:37.778454400Z",
     "start_time": "2025-03-25T14:34:37.760448300Z"
    }
   },
   "outputs": [
    {
     "name": "stdout",
     "output_type": "stream",
     "text": [
      "mean weight : 74.20569\n",
      "median systolic blood pressure: 120\n",
      "most common gender: 1 ->  45522  pcs\n"
     ]
    }
   ],
   "source": [
    "# Your code here:\n",
    "mean_weight = df['weight'].mean()\n",
    "median_systolic_blood_pressure = df['ap_hi'].median()\n",
    "\n",
    "mode_gender = stats.mode(df['sex'],keepdims=True)#get object with mode and count \n",
    "print(f'mean weight : {mean_weight}')\n",
    "print(f'median systolic blood pressure: {median_systolic_blood_pressure:.0f}')\n",
    "print(f'most common gender: {mode_gender.mode[0]} ->  {mode_gender.count[0]}  pcs') #this value is double 1= men, 2= women?\n",
    "\n",
    "\n",
    "\n"
   ]
  },
  {
   "cell_type": "markdown",
   "id": "3542b40f-45c0-4b19-a00b-6832bb1f8933",
   "metadata": {},
   "source": [
    "### **Exercise 4: Compute Quantiles and Interquartile Range (IQR)**  \n",
    "**Question:** Compute the **Q1**, **Q2 (median)**, and **Q3** for the **\"cholesterol\"** column and calculate the **Interquartile Range (IQR)**. \n"
   ]
  },
  {
   "cell_type": "code",
   "execution_count": 213,
   "id": "e71a544c-dafa-4277-93fc-55877a245927",
   "metadata": {
    "ExecuteTime": {
     "end_time": "2025-03-25T14:34:38.008212Z",
     "start_time": "2025-03-25T14:34:37.773484Z"
    }
   },
   "outputs": [
    {
     "name": "stdout",
     "output_type": "stream",
     "text": [
      "Q1 25th percentile of cholesterol: 1.0\n",
      "Q1 75th percentile of cholesterol: 1.0\n",
      "cholesterol median: 1.0\n",
      "Interquartile Range (IQR) of cholesterol: 1.00\n"
     ]
    },
    {
     "data": {
      "text/plain": "<Figure size 800x500 with 1 Axes>",
      "image/png": "[encoded data removed]"
     },
     "metadata": {},
     "output_type": "display_data"
    }
   ],
   "source": [
    "# Your code here:\n",
    "q1_colesterol = df['cholesterol'].quantile(0.25)\n",
    "q2_colesterol = df['cholesterol'].median()\n",
    "q3_colesterol = df['cholesterol'].quantile(0.75)\n",
    "iqr_colesterol = q3_colesterol-q1_colesterol\n",
    "print(f'Q1 25th percentile of cholesterol: {q1_colesterol}')\n",
    "print(f'Q1 75th percentile of cholesterol: {q2_colesterol}')\n",
    "print(f'cholesterol median: {q2_colesterol}')\n",
    "print(f\"Interquartile Range (IQR) of cholesterol: {iqr_colesterol:.2f}\")\n",
    "\n",
    "plt.figure(figsize=(8,5))\n",
    "sns.boxplot(x=df['cholesterol'])\n",
    "plt.title('Boxplot of cholesterol')\n",
    "plt.show()\n",
    "\n"
   ]
  },
  {
   "cell_type": "markdown",
   "id": "6fc3984d-5b71-4117-8ab8-f9bc81434f13",
   "metadata": {},
   "source": [
    "### **Exercise 5: Grouped Analysis by Gender**  \n",
    "**Question:** Calculate the **mean** of the **\"weight\"** column grouped by **\"gender\"**. \n"
   ]
  },
  {
   "cell_type": "code",
   "execution_count": 214,
   "id": "a45846a0-4136-4985-a2e1-f9706ee40ce6",
   "metadata": {
    "ExecuteTime": {
     "end_time": "2025-03-25T14:34:38.083144800Z",
     "start_time": "2025-03-25T14:34:38.011222900Z"
    }
   },
   "outputs": [
    {
     "name": "stdout",
     "output_type": "stream",
     "text": [
      "mean weight grouped by gender sex\n",
      "1    72.565902\n",
      "2    77.258565\n",
      "3    69.818182\n",
      "Name: weight, dtype: float64\n"
     ]
    }
   ],
   "source": [
    "# Your code here:\n",
    "#group by gender and get mean weight\n",
    "df_mean_weight = df.groupby('sex')['weight'].mean()\n",
    "\n",
    "print(f'mean weight grouped by gender {df_mean_weight}')"
   ]
  },
  {
   "cell_type": "code",
   "execution_count": 214,
   "id": "965dc9bb-30e5-4df7-a4b9-3b11593aec83",
   "metadata": {
    "ExecuteTime": {
     "end_time": "2025-03-25T14:34:38.092204900Z",
     "start_time": "2025-03-25T14:34:38.025222700Z"
    }
   },
   "outputs": [],
   "source": []
  }
 ],
 "metadata": {
  "kernelspec": {
   "display_name": "Python 3 (ipykernel)",
   "language": "python",
   "name": "python3"
  },
  "language_info": {
   "codemirror_mode": {
    "name": "ipython",
    "version": 3
   },
   "file_extension": ".py",
   "mimetype": "text/x-python",
   "name": "python",
   "nbconvert_exporter": "python",
   "pygments_lexer": "ipython3",
   "version": "3.11.9"
  }
 },
 "nbformat": 4,
 "nbformat_minor": 5
}
