{
 "cells": [
  {
   "cell_type": "markdown",
   "id": "e3af01f0-eb01-4668-ba00-755922f5413a",
   "metadata": {},
   "source": [
    "## Hands-on - Visualisation"
   ]
  },
  {
   "cell_type": "code",
   "execution_count": null,
   "id": "a56353bd",
   "metadata": {
    "is_executing": true
   },
   "outputs": [],
   "source": [
    "# Import necessary libraries \n",
    "import pandas as pd\n",
    "import numpy as np\n",
    "import seaborn as sns\n",
    "import matplotlib.pyplot as plt\n",
    "from sklearn.linear_model import LinearRegression\n",
    "from sklearn.model_selection import train_test_split\n",
    "from sklearn.metrics import mean_squared_error, r2_score\n",
    "from sklearn.impute import KNNImputer\n",
    "from sklearn.experimental import enable_iterative_imputer\n",
    "from sklearn.impute import IterativeImputer\n",
    "from scipy.stats import shapiro\n",
    "\n",
    "# Load dataset from GitHub URL\n",
    "file_path = \"https://raw.githubusercontent.com/Hamed-Ahmadinia/DASP-2025/main/World-happiness-report-updated_2024.csv\"\n",
    "\n",
    "# Read the dataset into a pandas dataframe\n",
    "df = pd.read_csv(file_path, encoding='latin1')\n",
    "\n",
    "# Display the first few rows of the dataframe to confirm the data has been loaded correctly\n",
    "print(\"Dataset Preview:\")\n",
    "print(df.head(5))"
   ]
  },
  {
   "cell_type": "markdown",
   "id": "f0497ded-78fc-473f-a372-f7a9178651c2",
   "metadata": {},
   "source": [
    "### **Question 1: Create a histogram of the 'Life Ladder'**\n",
    "#### Hint: Use plt.hist() or sns.histplot() to show distribution of a single variable"
   ]
  },
  {
   "cell_type": "code",
   "execution_count": null,
   "id": "ce2da9e1-00e5-477a-ab10-0afdc58ff97a",
   "metadata": {
    "is_executing": true
   },
   "outputs": [],
   "source": [
    "# Your code here:"
   ]
  },
  {
   "cell_type": "markdown",
   "id": "7186c00d-4ac0-4853-8977-728f17e0ab64",
   "metadata": {},
   "source": [
    "### **Question 2: Create a scatter plot of 'Log GDP per capita' vs 'Life Ladder'**\n",
    "#### Hint: Use sns.scatterplot(x=..., y=...) or plt.scatter()"
   ]
  },
  {
   "cell_type": "code",
   "execution_count": null,
   "id": "40ffded5-78e1-43f9-b0ab-979662f0e3b1",
   "metadata": {
    "is_executing": true
   },
   "outputs": [],
   "source": [
    "# Your code here:"
   ]
  },
  {
   "cell_type": "markdown",
   "id": "abb7e8b6-88f3-4c20-a706-1866b901f936",
   "metadata": {},
   "source": [
    "### **Question 3: Create a box plot to show distribution of 'Life Ladder' by 'year'**\n",
    "#### Hint: Use sns.boxplot(x='Regional indicator', y='Life Ladder', data=df) and rotate x-labels for readability"
   ]
  },
  {
   "cell_type": "code",
   "execution_count": null,
   "id": "f2530035-c7dc-49e8-b34a-6eb82408850c",
   "metadata": {
    "is_executing": true
   },
   "outputs": [],
   "source": [
    "# Your code here:"
   ]
  },
  {
   "cell_type": "markdown",
   "id": "3542b40f-45c0-4b19-a00b-6832bb1f8933",
   "metadata": {},
   "source": [
    "### **Question 4: Create a heatmap to show correlation between numerical features**\n",
    "#### Hint: Use df.corr() to calculate correlation matrix, then sns.heatmap()"
   ]
  },
  {
   "cell_type": "code",
   "execution_count": null,
   "id": "e71a544c-dafa-4277-93fc-55877a245927",
   "metadata": {
    "is_executing": true
   },
   "outputs": [],
   "source": [
    "# Your code here:"
   ]
  },
  {
   "cell_type": "markdown",
   "id": "6fc3984d-5b71-4117-8ab8-f9bc81434f13",
   "metadata": {},
   "source": [
    "### **Question 5: Create a residual plot for 'Life Ladder' prediction using 'Log GDP per capita'**\n",
    "#### Hint: Use LinearRegression to predict, then subtract predictions from actuals and plot with plt.scatter()"
   ]
  },
  {
   "cell_type": "code",
   "execution_count": null,
   "id": "a45846a0-4136-4985-a2e1-f9706ee40ce6",
   "metadata": {
    "is_executing": true
   },
   "outputs": [],
   "source": [
    "# Your code here:"
   ]
  },
  {
   "cell_type": "markdown",
   "id": "59196cd9-bb31-4512-be6b-51abe8f2ebdc",
   "metadata": {},
   "source": [
    "### **Question 6: Create a line plot showing 'Healthy life expectancy at birth' over years for top 5 countries**\n",
    "#### Hint: Group by 'Country name', take top 5 by average life expectancy, then use sns.lineplot() to show trends over time"
   ]
  },
  {
   "cell_type": "code",
   "execution_count": null,
   "id": "ad9db1ef-542a-4cc7-b70e-08870811fe6f",
   "metadata": {
    "is_executing": true
   },
   "outputs": [],
   "source": [
    "# Your code here:"
   ]
  },
  {
   "cell_type": "markdown",
   "id": "17821744-8527-4e37-b39c-e26b1ac9d05f",
   "metadata": {},
   "source": [
    "### **Question 7: Create a bar chart of average 'Social support' for top 10 countries in 2023**\n",
    "#### Hint: Filter the dataset for 2023, group by 'Country name', then plot the top 10 using bar chart"
   ]
  },
  {
   "cell_type": "code",
   "execution_count": null,
   "id": "9ec3420c-e314-428d-a166-00598836305d",
   "metadata": {
    "is_executing": true
   },
   "outputs": [],
   "source": [
    "# Your code here:"
   ]
  },
  {
   "cell_type": "markdown",
   "id": "681d6fdb-53a3-4698-ac2f-9890f9a10c8f",
   "metadata": {},
   "source": [
    "### **Question 8: Create a pie chart showing proportion of 'Country name' in the dataset (top 10 countries)**\n",
    "#### Use df['Country name'].value_counts().head(10) and plt.pie() to show the most frequently appearing countries"
   ]
  },
  {
   "cell_type": "code",
   "execution_count": null,
   "id": "e5a3cb04-f23f-4c16-994c-e409ab54ba5b",
   "metadata": {
    "is_executing": true
   },
   "outputs": [],
   "source": [
    "# Your code here:"
   ]
  },
  {
   "cell_type": "markdown",
   "id": "49ea0eaf-429d-4119-b439-09c93511116c",
   "metadata": {},
   "source": [
    "### **Question 9: Perform Linear Regression to predict 'Life Ladder' using multiple predictors**\n",
    "#### Hint: Use 'Log GDP per capita', 'Social support', and 'Healthy life expectancy at birth' as X variables and fit a model"
   ]
  },
  {
   "cell_type": "code",
   "execution_count": null,
   "id": "ffbbd423-198c-48cb-a6dd-5a2cd01da13e",
   "metadata": {
    "is_executing": true
   },
   "outputs": [],
   "source": [
    "# Your code here:"
   ]
  },
  {
   "cell_type": "markdown",
   "id": "00ba8b23-93b0-4203-8d6e-076802707248",
   "metadata": {},
   "source": [
    "### **Question 10: Plot residuals from the model above**\n",
    "#### Hint: Subtract predicted values from actual 'Life Ladder', then plot residuals vs predictions using plt.scatter()"
   ]
  },
  {
   "cell_type": "code",
   "execution_count": null,
   "id": "22fac3e5-5867-4dc6-a8a5-750268cdad89",
   "metadata": {
    "is_executing": true
   },
   "outputs": [],
   "source": [
    "# Your code here:"
   ]
  }
 ],
 "metadata": {
  "kernelspec": {
   "display_name": "Python 3 (ipykernel)",
   "language": "python",
   "name": "python3"
  },
  "language_info": {
   "codemirror_mode": {
    "name": "ipython",
    "version": 3
   },
   "file_extension": ".py",
   "mimetype": "text/x-python",
   "name": "python",
   "nbconvert_exporter": "python",
   "pygments_lexer": "ipython3",
   "version": "3.11.9"
  }
 },
 "nbformat": 4,
 "nbformat_minor": 5
}
